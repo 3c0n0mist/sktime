{
 "cells": [
  {
   "cell_type": "markdown",
   "metadata": {},
   "source": [
    "# Feature extraction with tsfresh transformer\n",
    "\n",
    "In this tutorial, we show how you can use sktime with [tsfresh](https://tsfresh.readthedocs.io) to first extract features from time series, so that we can then use any scikit-learn estimator.\n",
    "\n",
    "## Preliminaries\n",
    "You have to install tsfresh if you haven't already. To install it, uncomment the cell below:"
   ]
  },
  {
   "cell_type": "code",
   "execution_count": 1,
   "metadata": {
    "execution": {
     "iopub.execute_input": "2020-09-11T08:40:20.628168Z",
     "iopub.status.busy": "2020-09-11T08:40:20.627381Z",
     "iopub.status.idle": "2020-09-11T08:40:20.634712Z",
     "shell.execute_reply": "2020-09-11T08:40:20.635294Z"
    }
   },
   "outputs": [],
   "source": [
    "# !pip install --upgrade tsfresh"
   ]
  },
  {
   "cell_type": "code",
   "execution_count": 2,
   "metadata": {
    "execution": {
     "iopub.execute_input": "2020-09-11T08:40:20.641406Z",
     "iopub.status.busy": "2020-09-11T08:40:20.640344Z",
     "iopub.status.idle": "2020-09-11T08:40:21.695178Z",
     "shell.execute_reply": "2020-09-11T08:40:21.695808Z"
    }
   },
   "outputs": [],
   "source": [
    "import numpy as np\n",
    "from sklearn.model_selection import train_test_split\n",
    "from sklearn.ensemble import RandomForestClassifier\n",
    "from sklearn.pipeline import make_pipeline\n",
    "from sktime.datasets import load_basic_motions\n",
    "from sktime.datasets import load_arrow_head\n",
    "from sktime.transformers.series_as_features.summarize import \\\n",
    "    TSFreshFeatureExtractor"
   ]
  },
  {
   "cell_type": "markdown",
   "metadata": {},
   "source": [
    "## Univariate time series classification data\n",
    "\n",
    "For more details on the data set, see the [univariate time series classification notebook](https://github.com/alan-turing-institute/sktime/blob/master/examples/02_classification_univariate.ipynb)."
   ]
  },
  {
   "cell_type": "code",
   "execution_count": 3,
   "metadata": {
    "execution": {
     "iopub.execute_input": "2020-09-11T08:40:21.702941Z",
     "iopub.status.busy": "2020-09-11T08:40:21.701940Z",
     "iopub.status.idle": "2020-09-11T08:40:21.824110Z",
     "shell.execute_reply": "2020-09-11T08:40:21.824729Z"
    }
   },
   "outputs": [
    {
     "name": "stdout",
     "output_type": "stream",
     "text": [
      "(158, 1) (158,) (53, 1) (53,)\n"
     ]
    }
   ],
   "source": [
    "X, y = load_arrow_head(return_X_y=True)\n",
    "X_train, X_test, y_train, y_test = train_test_split(X, y)\n",
    "print(X_train.shape, y_train.shape, X_test.shape, y_test.shape)"
   ]
  },
  {
   "cell_type": "code",
   "execution_count": 4,
   "metadata": {
    "execution": {
     "iopub.execute_input": "2020-09-11T08:40:21.845074Z",
     "iopub.status.busy": "2020-09-11T08:40:21.844067Z",
     "iopub.status.idle": "2020-09-11T08:40:21.861998Z",
     "shell.execute_reply": "2020-09-11T08:40:21.862615Z"
    },
    "jupyter": {
     "outputs_hidden": false
    },
    "pycharm": {
     "name": "#%%\n"
    }
   },
   "outputs": [
    {
     "data": {
      "text/html": [
       "<div>\n",
       "<style scoped>\n",
       "    .dataframe tbody tr th:only-of-type {\n",
       "        vertical-align: middle;\n",
       "    }\n",
       "\n",
       "    .dataframe tbody tr th {\n",
       "        vertical-align: top;\n",
       "    }\n",
       "\n",
       "    .dataframe thead th {\n",
       "        text-align: right;\n",
       "    }\n",
       "</style>\n",
       "<table border=\"1\" class=\"dataframe\">\n",
       "  <thead>\n",
       "    <tr style=\"text-align: right;\">\n",
       "      <th></th>\n",
       "      <th>dim_0</th>\n",
       "    </tr>\n",
       "  </thead>\n",
       "  <tbody>\n",
       "    <tr>\n",
       "      <th>46</th>\n",
       "      <td>0     -1.8552\n",
       "1     -1.8490\n",
       "2     -1.8452\n",
       "3   ...</td>\n",
       "    </tr>\n",
       "    <tr>\n",
       "      <th>48</th>\n",
       "      <td>0     -1.9434\n",
       "1     -1.8579\n",
       "2     -1.8503\n",
       "3   ...</td>\n",
       "    </tr>\n",
       "    <tr>\n",
       "      <th>38</th>\n",
       "      <td>0     -2.1322\n",
       "1     -2.1192\n",
       "2     -2.0902\n",
       "3   ...</td>\n",
       "    </tr>\n",
       "    <tr>\n",
       "      <th>102</th>\n",
       "      <td>0     -1.9872\n",
       "1     -1.9700\n",
       "2     -1.9509\n",
       "3   ...</td>\n",
       "    </tr>\n",
       "    <tr>\n",
       "      <th>5</th>\n",
       "      <td>0     -1.9828\n",
       "1     -1.9789\n",
       "2     -1.9373\n",
       "3   ...</td>\n",
       "    </tr>\n",
       "  </tbody>\n",
       "</table>\n",
       "</div>"
      ],
      "text/plain": [
       "                                                 dim_0\n",
       "46   0     -1.8552\n",
       "1     -1.8490\n",
       "2     -1.8452\n",
       "3   ...\n",
       "48   0     -1.9434\n",
       "1     -1.8579\n",
       "2     -1.8503\n",
       "3   ...\n",
       "38   0     -2.1322\n",
       "1     -2.1192\n",
       "2     -2.0902\n",
       "3   ...\n",
       "102  0     -1.9872\n",
       "1     -1.9700\n",
       "2     -1.9509\n",
       "3   ...\n",
       "5    0     -1.9828\n",
       "1     -1.9789\n",
       "2     -1.9373\n",
       "3   ..."
      ]
     },
     "execution_count": 4,
     "metadata": {},
     "output_type": "execute_result"
    }
   ],
   "source": [
    "X_train.head()"
   ]
  },
  {
   "cell_type": "code",
   "execution_count": 5,
   "metadata": {
    "execution": {
     "iopub.execute_input": "2020-09-11T08:40:21.867875Z",
     "iopub.status.busy": "2020-09-11T08:40:21.867010Z",
     "iopub.status.idle": "2020-09-11T08:40:21.875519Z",
     "shell.execute_reply": "2020-09-11T08:40:21.876143Z"
    }
   },
   "outputs": [
    {
     "data": {
      "text/plain": [
       "array(['0', '1', '2'], dtype=object)"
      ]
     },
     "execution_count": 5,
     "metadata": {},
     "output_type": "execute_result"
    }
   ],
   "source": [
    "# binary classification task\n",
    "np.unique(y_train)"
   ]
  },
  {
   "cell_type": "markdown",
   "metadata": {},
   "source": [
    "## Using tsfresh to extract features"
   ]
  },
  {
   "cell_type": "code",
   "execution_count": 6,
   "metadata": {
    "execution": {
     "iopub.execute_input": "2020-09-11T08:40:21.881340Z",
     "iopub.status.busy": "2020-09-11T08:40:21.880364Z",
     "iopub.status.idle": "2020-09-11T08:40:50.317949Z",
     "shell.execute_reply": "2020-09-11T08:40:50.318606Z"
    }
   },
   "outputs": [
    {
     "name": "stderr",
     "output_type": "stream",
     "text": [
      "/Users/travis/build/alan-turing-institute/sktime/sktime/transformers/series_as_features/summarize/_tsfresh.py:150: UserWarning: Found non-unique index, replaced with unique index.\n",
      "  warn(\"Found non-unique index, replaced with unique index.\")\n"
     ]
    },
    {
     "name": "stderr",
     "output_type": "stream",
     "text": [
      "\r",
      "Feature Extraction:   0%|          | 0/5 [00:00<?, ?it/s]"
     ]
    },
    {
     "name": "stderr",
     "output_type": "stream",
     "text": [
      "\r",
      "Feature Extraction:  20%|██        | 1/5 [00:05<00:20,  5.07s/it]"
     ]
    },
    {
     "name": "stderr",
     "output_type": "stream",
     "text": [
      "\r",
      "Feature Extraction:  40%|████      | 2/5 [00:09<00:14,  4.99s/it]"
     ]
    },
    {
     "name": "stderr",
     "output_type": "stream",
     "text": [
      "\r",
      "Feature Extraction:  60%|██████    | 3/5 [00:15<00:10,  5.17s/it]"
     ]
    },
    {
     "name": "stderr",
     "output_type": "stream",
     "text": [
      "\r",
      "Feature Extraction:  80%|████████  | 4/5 [00:22<00:05,  5.60s/it]"
     ]
    },
    {
     "name": "stderr",
     "output_type": "stream",
     "text": [
      "\r",
      "Feature Extraction: 100%|██████████| 5/5 [00:26<00:00,  5.35s/it]"
     ]
    },
    {
     "name": "stderr",
     "output_type": "stream",
     "text": [
      "\r",
      "Feature Extraction: 100%|██████████| 5/5 [00:26<00:00,  5.37s/it]"
     ]
    },
    {
     "name": "stderr",
     "output_type": "stream",
     "text": [
      "\n"
     ]
    },
    {
     "data": {
      "text/html": [
       "<div>\n",
       "<style scoped>\n",
       "    .dataframe tbody tr th:only-of-type {\n",
       "        vertical-align: middle;\n",
       "    }\n",
       "\n",
       "    .dataframe tbody tr th {\n",
       "        vertical-align: top;\n",
       "    }\n",
       "\n",
       "    .dataframe thead th {\n",
       "        text-align: right;\n",
       "    }\n",
       "</style>\n",
       "<table border=\"1\" class=\"dataframe\">\n",
       "  <thead>\n",
       "    <tr style=\"text-align: right;\">\n",
       "      <th></th>\n",
       "      <th>dim_0__variance_larger_than_standard_deviation</th>\n",
       "      <th>dim_0__has_duplicate_max</th>\n",
       "      <th>dim_0__has_duplicate_min</th>\n",
       "      <th>dim_0__has_duplicate</th>\n",
       "      <th>dim_0__sum_values</th>\n",
       "      <th>dim_0__abs_energy</th>\n",
       "      <th>dim_0__mean_abs_change</th>\n",
       "      <th>dim_0__mean_change</th>\n",
       "      <th>dim_0__mean_second_derivative_central</th>\n",
       "      <th>dim_0__median</th>\n",
       "      <th>...</th>\n",
       "      <th>dim_0__fourier_entropy__bins_2</th>\n",
       "      <th>dim_0__fourier_entropy__bins_3</th>\n",
       "      <th>dim_0__fourier_entropy__bins_5</th>\n",
       "      <th>dim_0__fourier_entropy__bins_10</th>\n",
       "      <th>dim_0__fourier_entropy__bins_100</th>\n",
       "      <th>dim_0__permutation_entropy__dimension_3__tau_1</th>\n",
       "      <th>dim_0__permutation_entropy__dimension_4__tau_1</th>\n",
       "      <th>dim_0__permutation_entropy__dimension_5__tau_1</th>\n",
       "      <th>dim_0__permutation_entropy__dimension_6__tau_1</th>\n",
       "      <th>dim_0__permutation_entropy__dimension_7__tau_1</th>\n",
       "    </tr>\n",
       "  </thead>\n",
       "  <tbody>\n",
       "    <tr>\n",
       "      <th>0</th>\n",
       "      <td>0.0</td>\n",
       "      <td>0.0</td>\n",
       "      <td>0.0</td>\n",
       "      <td>1.0</td>\n",
       "      <td>0.000277</td>\n",
       "      <td>250.000879</td>\n",
       "      <td>0.353207</td>\n",
       "      <td>0.004549</td>\n",
       "      <td>-0.000143</td>\n",
       "      <td>-0.095346</td>\n",
       "      <td>...</td>\n",
       "      <td>0.081510</td>\n",
       "      <td>0.081510</td>\n",
       "      <td>0.127671</td>\n",
       "      <td>0.138673</td>\n",
       "      <td>1.155607</td>\n",
       "      <td>1.512407</td>\n",
       "      <td>2.342810</td>\n",
       "      <td>3.057773</td>\n",
       "      <td>3.636715</td>\n",
       "      <td>4.048320</td>\n",
       "    </tr>\n",
       "    <tr>\n",
       "      <th>1</th>\n",
       "      <td>0.0</td>\n",
       "      <td>0.0</td>\n",
       "      <td>0.0</td>\n",
       "      <td>1.0</td>\n",
       "      <td>-0.000014</td>\n",
       "      <td>250.000034</td>\n",
       "      <td>0.327059</td>\n",
       "      <td>0.001584</td>\n",
       "      <td>-0.000047</td>\n",
       "      <td>0.216780</td>\n",
       "      <td>...</td>\n",
       "      <td>0.081510</td>\n",
       "      <td>0.081510</td>\n",
       "      <td>0.127671</td>\n",
       "      <td>0.127671</td>\n",
       "      <td>1.091466</td>\n",
       "      <td>1.455328</td>\n",
       "      <td>2.282876</td>\n",
       "      <td>2.972878</td>\n",
       "      <td>3.543566</td>\n",
       "      <td>4.003471</td>\n",
       "    </tr>\n",
       "    <tr>\n",
       "      <th>2</th>\n",
       "      <td>0.0</td>\n",
       "      <td>0.0</td>\n",
       "      <td>0.0</td>\n",
       "      <td>1.0</td>\n",
       "      <td>-0.000175</td>\n",
       "      <td>249.999868</td>\n",
       "      <td>0.367173</td>\n",
       "      <td>0.005356</td>\n",
       "      <td>0.000054</td>\n",
       "      <td>-0.083815</td>\n",
       "      <td>...</td>\n",
       "      <td>0.081510</td>\n",
       "      <td>0.092513</td>\n",
       "      <td>0.138673</td>\n",
       "      <td>0.184769</td>\n",
       "      <td>1.173798</td>\n",
       "      <td>1.469656</td>\n",
       "      <td>2.234479</td>\n",
       "      <td>2.851525</td>\n",
       "      <td>3.339198</td>\n",
       "      <td>3.741210</td>\n",
       "    </tr>\n",
       "    <tr>\n",
       "      <th>3</th>\n",
       "      <td>0.0</td>\n",
       "      <td>1.0</td>\n",
       "      <td>0.0</td>\n",
       "      <td>1.0</td>\n",
       "      <td>0.000147</td>\n",
       "      <td>249.999068</td>\n",
       "      <td>0.331236</td>\n",
       "      <td>0.006163</td>\n",
       "      <td>-0.000114</td>\n",
       "      <td>0.155260</td>\n",
       "      <td>...</td>\n",
       "      <td>0.046288</td>\n",
       "      <td>0.092513</td>\n",
       "      <td>0.092513</td>\n",
       "      <td>0.204643</td>\n",
       "      <td>1.120764</td>\n",
       "      <td>1.489912</td>\n",
       "      <td>2.307367</td>\n",
       "      <td>2.997843</td>\n",
       "      <td>3.514915</td>\n",
       "      <td>3.899560</td>\n",
       "    </tr>\n",
       "    <tr>\n",
       "      <th>4</th>\n",
       "      <td>0.0</td>\n",
       "      <td>0.0</td>\n",
       "      <td>0.0</td>\n",
       "      <td>1.0</td>\n",
       "      <td>0.000014</td>\n",
       "      <td>249.999772</td>\n",
       "      <td>0.332914</td>\n",
       "      <td>0.007391</td>\n",
       "      <td>-0.000246</td>\n",
       "      <td>0.224780</td>\n",
       "      <td>...</td>\n",
       "      <td>0.081510</td>\n",
       "      <td>0.092513</td>\n",
       "      <td>0.138673</td>\n",
       "      <td>0.219798</td>\n",
       "      <td>1.244003</td>\n",
       "      <td>1.493691</td>\n",
       "      <td>2.278361</td>\n",
       "      <td>3.026199</td>\n",
       "      <td>3.610979</td>\n",
       "      <td>4.104844</td>\n",
       "    </tr>\n",
       "  </tbody>\n",
       "</table>\n",
       "<p>5 rows × 773 columns</p>\n",
       "</div>"
      ],
      "text/plain": [
       "   dim_0__variance_larger_than_standard_deviation  dim_0__has_duplicate_max  \\\n",
       "0                                             0.0                       0.0   \n",
       "1                                             0.0                       0.0   \n",
       "2                                             0.0                       0.0   \n",
       "3                                             0.0                       1.0   \n",
       "4                                             0.0                       0.0   \n",
       "\n",
       "   dim_0__has_duplicate_min  dim_0__has_duplicate  dim_0__sum_values  \\\n",
       "0                       0.0                   1.0           0.000277   \n",
       "1                       0.0                   1.0          -0.000014   \n",
       "2                       0.0                   1.0          -0.000175   \n",
       "3                       0.0                   1.0           0.000147   \n",
       "4                       0.0                   1.0           0.000014   \n",
       "\n",
       "   dim_0__abs_energy  dim_0__mean_abs_change  dim_0__mean_change  \\\n",
       "0         250.000879                0.353207            0.004549   \n",
       "1         250.000034                0.327059            0.001584   \n",
       "2         249.999868                0.367173            0.005356   \n",
       "3         249.999068                0.331236            0.006163   \n",
       "4         249.999772                0.332914            0.007391   \n",
       "\n",
       "   dim_0__mean_second_derivative_central  dim_0__median  ...  \\\n",
       "0                              -0.000143      -0.095346  ...   \n",
       "1                              -0.000047       0.216780  ...   \n",
       "2                               0.000054      -0.083815  ...   \n",
       "3                              -0.000114       0.155260  ...   \n",
       "4                              -0.000246       0.224780  ...   \n",
       "\n",
       "   dim_0__fourier_entropy__bins_2  dim_0__fourier_entropy__bins_3  \\\n",
       "0                        0.081510                        0.081510   \n",
       "1                        0.081510                        0.081510   \n",
       "2                        0.081510                        0.092513   \n",
       "3                        0.046288                        0.092513   \n",
       "4                        0.081510                        0.092513   \n",
       "\n",
       "   dim_0__fourier_entropy__bins_5  dim_0__fourier_entropy__bins_10  \\\n",
       "0                        0.127671                         0.138673   \n",
       "1                        0.127671                         0.127671   \n",
       "2                        0.138673                         0.184769   \n",
       "3                        0.092513                         0.204643   \n",
       "4                        0.138673                         0.219798   \n",
       "\n",
       "   dim_0__fourier_entropy__bins_100  \\\n",
       "0                          1.155607   \n",
       "1                          1.091466   \n",
       "2                          1.173798   \n",
       "3                          1.120764   \n",
       "4                          1.244003   \n",
       "\n",
       "   dim_0__permutation_entropy__dimension_3__tau_1  \\\n",
       "0                                        1.512407   \n",
       "1                                        1.455328   \n",
       "2                                        1.469656   \n",
       "3                                        1.489912   \n",
       "4                                        1.493691   \n",
       "\n",
       "   dim_0__permutation_entropy__dimension_4__tau_1  \\\n",
       "0                                        2.342810   \n",
       "1                                        2.282876   \n",
       "2                                        2.234479   \n",
       "3                                        2.307367   \n",
       "4                                        2.278361   \n",
       "\n",
       "   dim_0__permutation_entropy__dimension_5__tau_1  \\\n",
       "0                                        3.057773   \n",
       "1                                        2.972878   \n",
       "2                                        2.851525   \n",
       "3                                        2.997843   \n",
       "4                                        3.026199   \n",
       "\n",
       "   dim_0__permutation_entropy__dimension_6__tau_1  \\\n",
       "0                                        3.636715   \n",
       "1                                        3.543566   \n",
       "2                                        3.339198   \n",
       "3                                        3.514915   \n",
       "4                                        3.610979   \n",
       "\n",
       "   dim_0__permutation_entropy__dimension_7__tau_1  \n",
       "0                                        4.048320  \n",
       "1                                        4.003471  \n",
       "2                                        3.741210  \n",
       "3                                        3.899560  \n",
       "4                                        4.104844  \n",
       "\n",
       "[5 rows x 773 columns]"
      ]
     },
     "execution_count": 6,
     "metadata": {},
     "output_type": "execute_result"
    }
   ],
   "source": [
    "# tf = TsFreshTransfomer()\n",
    "t = TSFreshFeatureExtractor(default_fc_parameters=\"efficient\", show_warnings=False)\n",
    "Xt = t.fit_transform(X_train)\n",
    "Xt.head()"
   ]
  },
  {
   "cell_type": "markdown",
   "metadata": {},
   "source": [
    "## Using tsfresh with sktime"
   ]
  },
  {
   "cell_type": "code",
   "execution_count": 7,
   "metadata": {
    "execution": {
     "iopub.execute_input": "2020-09-11T08:40:50.331487Z",
     "iopub.status.busy": "2020-09-11T08:40:50.330674Z",
     "iopub.status.idle": "2020-09-11T08:41:24.557973Z",
     "shell.execute_reply": "2020-09-11T08:41:24.558543Z"
    }
   },
   "outputs": [
    {
     "name": "stderr",
     "output_type": "stream",
     "text": [
      "/Users/travis/build/alan-turing-institute/sktime/sktime/transformers/series_as_features/summarize/_tsfresh.py:150: UserWarning: Found non-unique index, replaced with unique index.\n",
      "  warn(\"Found non-unique index, replaced with unique index.\")\n"
     ]
    },
    {
     "name": "stderr",
     "output_type": "stream",
     "text": [
      "\r",
      "Feature Extraction:   0%|          | 0/5 [00:00<?, ?it/s]"
     ]
    },
    {
     "name": "stderr",
     "output_type": "stream",
     "text": [
      "\r",
      "Feature Extraction:  20%|██        | 1/5 [00:05<00:20,  5.09s/it]"
     ]
    },
    {
     "name": "stderr",
     "output_type": "stream",
     "text": [
      "\r",
      "Feature Extraction:  40%|████      | 2/5 [00:10<00:15,  5.04s/it]"
     ]
    },
    {
     "name": "stderr",
     "output_type": "stream",
     "text": [
      "\r",
      "Feature Extraction:  60%|██████    | 3/5 [00:14<00:09,  4.95s/it]"
     ]
    },
    {
     "name": "stderr",
     "output_type": "stream",
     "text": [
      "\r",
      "Feature Extraction:  80%|████████  | 4/5 [00:19<00:04,  4.91s/it]"
     ]
    },
    {
     "name": "stderr",
     "output_type": "stream",
     "text": [
      "\r",
      "Feature Extraction: 100%|██████████| 5/5 [00:24<00:00,  4.79s/it]"
     ]
    },
    {
     "name": "stderr",
     "output_type": "stream",
     "text": [
      "\r",
      "Feature Extraction: 100%|██████████| 5/5 [00:24<00:00,  4.82s/it]"
     ]
    },
    {
     "name": "stderr",
     "output_type": "stream",
     "text": [
      "\n"
     ]
    },
    {
     "name": "stderr",
     "output_type": "stream",
     "text": [
      "/Users/travis/build/alan-turing-institute/sktime/sktime/transformers/series_as_features/summarize/_tsfresh.py:150: UserWarning: Found non-unique index, replaced with unique index.\n",
      "  warn(\"Found non-unique index, replaced with unique index.\")\n"
     ]
    },
    {
     "name": "stderr",
     "output_type": "stream",
     "text": [
      "\r",
      "Feature Extraction:   0%|          | 0/5 [00:00<?, ?it/s]"
     ]
    },
    {
     "name": "stderr",
     "output_type": "stream",
     "text": [
      "\r",
      "Feature Extraction:  20%|██        | 1/5 [00:01<00:06,  1.74s/it]"
     ]
    },
    {
     "name": "stderr",
     "output_type": "stream",
     "text": [
      "\r",
      "Feature Extraction:  40%|████      | 2/5 [00:03<00:05,  1.71s/it]"
     ]
    },
    {
     "name": "stderr",
     "output_type": "stream",
     "text": [
      "\r",
      "Feature Extraction:  60%|██████    | 3/5 [00:05<00:03,  1.72s/it]"
     ]
    },
    {
     "name": "stderr",
     "output_type": "stream",
     "text": [
      "\r",
      "Feature Extraction:  80%|████████  | 4/5 [00:06<00:01,  1.70s/it]"
     ]
    },
    {
     "name": "stderr",
     "output_type": "stream",
     "text": [
      "\r",
      "Feature Extraction: 100%|██████████| 5/5 [00:08<00:00,  1.59s/it]"
     ]
    },
    {
     "name": "stderr",
     "output_type": "stream",
     "text": [
      "\r",
      "Feature Extraction: 100%|██████████| 5/5 [00:08<00:00,  1.62s/it]"
     ]
    },
    {
     "name": "stderr",
     "output_type": "stream",
     "text": [
      "\n"
     ]
    },
    {
     "data": {
      "text/plain": [
       "0.9056603773584906"
      ]
     },
     "execution_count": 7,
     "metadata": {},
     "output_type": "execute_result"
    }
   ],
   "source": [
    "classifier = make_pipeline(\n",
    "    TSFreshFeatureExtractor(default_fc_parameters=\"efficient\", show_warnings=False),\n",
    "    RandomForestClassifier()\n",
    ")\n",
    "classifier.fit(X_train, y_train)\n",
    "classifier.score(X_test, y_test)"
   ]
  },
  {
   "cell_type": "markdown",
   "metadata": {},
   "source": [
    "## Multivariate time series classification data"
   ]
  },
  {
   "cell_type": "code",
   "execution_count": 8,
   "metadata": {
    "execution": {
     "iopub.execute_input": "2020-09-11T08:41:24.570750Z",
     "iopub.status.busy": "2020-09-11T08:41:24.565084Z",
     "iopub.status.idle": "2020-09-11T08:41:24.697488Z",
     "shell.execute_reply": "2020-09-11T08:41:24.698066Z"
    },
    "scrolled": true
   },
   "outputs": [
    {
     "name": "stdout",
     "output_type": "stream",
     "text": [
      "(60, 6) (60,) (20, 6) (20,)\n"
     ]
    }
   ],
   "source": [
    "X, y = load_basic_motions(return_X_y=True)\n",
    "X_train, X_test, y_train, y_test = train_test_split(X, y)\n",
    "print(X_train.shape, y_train.shape, X_test.shape, y_test.shape)"
   ]
  },
  {
   "cell_type": "code",
   "execution_count": 9,
   "metadata": {
    "execution": {
     "iopub.execute_input": "2020-09-11T08:41:24.777757Z",
     "iopub.status.busy": "2020-09-11T08:41:24.776790Z",
     "iopub.status.idle": "2020-09-11T08:41:24.785343Z",
     "shell.execute_reply": "2020-09-11T08:41:24.785926Z"
    },
    "jupyter": {
     "outputs_hidden": false
    },
    "pycharm": {
     "name": "#%%\n"
    }
   },
   "outputs": [
    {
     "data": {
      "text/html": [
       "<div>\n",
       "<style scoped>\n",
       "    .dataframe tbody tr th:only-of-type {\n",
       "        vertical-align: middle;\n",
       "    }\n",
       "\n",
       "    .dataframe tbody tr th {\n",
       "        vertical-align: top;\n",
       "    }\n",
       "\n",
       "    .dataframe thead th {\n",
       "        text-align: right;\n",
       "    }\n",
       "</style>\n",
       "<table border=\"1\" class=\"dataframe\">\n",
       "  <thead>\n",
       "    <tr style=\"text-align: right;\">\n",
       "      <th></th>\n",
       "      <th>dim_0</th>\n",
       "      <th>dim_1</th>\n",
       "      <th>dim_2</th>\n",
       "      <th>dim_3</th>\n",
       "      <th>dim_4</th>\n",
       "      <th>dim_5</th>\n",
       "    </tr>\n",
       "  </thead>\n",
       "  <tbody>\n",
       "    <tr>\n",
       "      <th>0</th>\n",
       "      <td>0     0.079106\n",
       "1     0.079106\n",
       "2    -0.903497\n",
       "3...</td>\n",
       "      <td>0     0.394032\n",
       "1     0.394032\n",
       "2    -3.666397\n",
       "3...</td>\n",
       "      <td>0     0.551444\n",
       "1     0.551444\n",
       "2    -0.282844\n",
       "3...</td>\n",
       "      <td>0     0.351565\n",
       "1     0.351565\n",
       "2    -0.095881\n",
       "3...</td>\n",
       "      <td>0     0.023970\n",
       "1     0.023970\n",
       "2    -0.319605\n",
       "3...</td>\n",
       "      <td>0     0.633883\n",
       "1     0.633883\n",
       "2     0.972131\n",
       "3...</td>\n",
       "    </tr>\n",
       "    <tr>\n",
       "      <th>30</th>\n",
       "      <td>0     -0.771623\n",
       "1     -0.771623\n",
       "2     -2.32382...</td>\n",
       "      <td>0      0.372042\n",
       "1      0.372042\n",
       "2     -0.29603...</td>\n",
       "      <td>0     -0.145753\n",
       "1     -0.145753\n",
       "2      1.71501...</td>\n",
       "      <td>0    -0.031960\n",
       "1    -0.031960\n",
       "2     0.383526\n",
       "3...</td>\n",
       "      <td>0     0.167792\n",
       "1     0.167792\n",
       "2     0.229050\n",
       "3...</td>\n",
       "      <td>0     -0.362219\n",
       "1     -0.362219\n",
       "2     -0.23970...</td>\n",
       "    </tr>\n",
       "    <tr>\n",
       "      <th>39</th>\n",
       "      <td>0      0.901645\n",
       "1      0.901645\n",
       "2     -0.05469...</td>\n",
       "      <td>0      2.581916\n",
       "1      2.581916\n",
       "2     -0.01142...</td>\n",
       "      <td>0    -0.353783\n",
       "1    -0.353783\n",
       "2    -0.009521\n",
       "3...</td>\n",
       "      <td>0    -0.455437\n",
       "1    -0.455437\n",
       "2    -0.250357\n",
       "3...</td>\n",
       "      <td>0     0.106535\n",
       "1     0.106535\n",
       "2    -0.069248\n",
       "3...</td>\n",
       "      <td>0     0.245030\n",
       "1     0.245030\n",
       "2     0.005327\n",
       "3...</td>\n",
       "    </tr>\n",
       "    <tr>\n",
       "      <th>20</th>\n",
       "      <td>0    -0.071819\n",
       "1    -0.071819\n",
       "2    -0.360728\n",
       "3...</td>\n",
       "      <td>0     0.354963\n",
       "1     0.354963\n",
       "2    -2.704719\n",
       "3...</td>\n",
       "      <td>0     0.275074\n",
       "1     0.275074\n",
       "2     0.892838\n",
       "3...</td>\n",
       "      <td>0    -1.033389\n",
       "1    -1.033389\n",
       "2     0.066584\n",
       "3...</td>\n",
       "      <td>0     0.743081\n",
       "1     0.743081\n",
       "2    -0.271664\n",
       "3...</td>\n",
       "      <td>0    -0.825646\n",
       "1    -0.825646\n",
       "2     0.122515\n",
       "3...</td>\n",
       "    </tr>\n",
       "    <tr>\n",
       "      <th>29</th>\n",
       "      <td>0     0.118553\n",
       "1     0.118553\n",
       "2    -0.545332\n",
       "3...</td>\n",
       "      <td>0     0.419456\n",
       "1     0.419456\n",
       "2     0.371223\n",
       "3...</td>\n",
       "      <td>0    -0.283447\n",
       "1    -0.283447\n",
       "2     0.707172\n",
       "3...</td>\n",
       "      <td>0     0.135832\n",
       "1     0.135832\n",
       "2     0.159802\n",
       "3...</td>\n",
       "      <td>0    -0.079901\n",
       "1    -0.079901\n",
       "2    -0.090555\n",
       "3...</td>\n",
       "      <td>0     0.050604\n",
       "1     0.050604\n",
       "2     0.474080\n",
       "3...</td>\n",
       "    </tr>\n",
       "  </tbody>\n",
       "</table>\n",
       "</div>"
      ],
      "text/plain": [
       "                                                dim_0  \\\n",
       "0   0     0.079106\n",
       "1     0.079106\n",
       "2    -0.903497\n",
       "3...   \n",
       "30  0     -0.771623\n",
       "1     -0.771623\n",
       "2     -2.32382...   \n",
       "39  0      0.901645\n",
       "1      0.901645\n",
       "2     -0.05469...   \n",
       "20  0    -0.071819\n",
       "1    -0.071819\n",
       "2    -0.360728\n",
       "3...   \n",
       "29  0     0.118553\n",
       "1     0.118553\n",
       "2    -0.545332\n",
       "3...   \n",
       "\n",
       "                                                dim_1  \\\n",
       "0   0     0.394032\n",
       "1     0.394032\n",
       "2    -3.666397\n",
       "3...   \n",
       "30  0      0.372042\n",
       "1      0.372042\n",
       "2     -0.29603...   \n",
       "39  0      2.581916\n",
       "1      2.581916\n",
       "2     -0.01142...   \n",
       "20  0     0.354963\n",
       "1     0.354963\n",
       "2    -2.704719\n",
       "3...   \n",
       "29  0     0.419456\n",
       "1     0.419456\n",
       "2     0.371223\n",
       "3...   \n",
       "\n",
       "                                                dim_2  \\\n",
       "0   0     0.551444\n",
       "1     0.551444\n",
       "2    -0.282844\n",
       "3...   \n",
       "30  0     -0.145753\n",
       "1     -0.145753\n",
       "2      1.71501...   \n",
       "39  0    -0.353783\n",
       "1    -0.353783\n",
       "2    -0.009521\n",
       "3...   \n",
       "20  0     0.275074\n",
       "1     0.275074\n",
       "2     0.892838\n",
       "3...   \n",
       "29  0    -0.283447\n",
       "1    -0.283447\n",
       "2     0.707172\n",
       "3...   \n",
       "\n",
       "                                                dim_3  \\\n",
       "0   0     0.351565\n",
       "1     0.351565\n",
       "2    -0.095881\n",
       "3...   \n",
       "30  0    -0.031960\n",
       "1    -0.031960\n",
       "2     0.383526\n",
       "3...   \n",
       "39  0    -0.455437\n",
       "1    -0.455437\n",
       "2    -0.250357\n",
       "3...   \n",
       "20  0    -1.033389\n",
       "1    -1.033389\n",
       "2     0.066584\n",
       "3...   \n",
       "29  0     0.135832\n",
       "1     0.135832\n",
       "2     0.159802\n",
       "3...   \n",
       "\n",
       "                                                dim_4  \\\n",
       "0   0     0.023970\n",
       "1     0.023970\n",
       "2    -0.319605\n",
       "3...   \n",
       "30  0     0.167792\n",
       "1     0.167792\n",
       "2     0.229050\n",
       "3...   \n",
       "39  0     0.106535\n",
       "1     0.106535\n",
       "2    -0.069248\n",
       "3...   \n",
       "20  0     0.743081\n",
       "1     0.743081\n",
       "2    -0.271664\n",
       "3...   \n",
       "29  0    -0.079901\n",
       "1    -0.079901\n",
       "2    -0.090555\n",
       "3...   \n",
       "\n",
       "                                                dim_5  \n",
       "0   0     0.633883\n",
       "1     0.633883\n",
       "2     0.972131\n",
       "3...  \n",
       "30  0     -0.362219\n",
       "1     -0.362219\n",
       "2     -0.23970...  \n",
       "39  0     0.245030\n",
       "1     0.245030\n",
       "2     0.005327\n",
       "3...  \n",
       "20  0    -0.825646\n",
       "1    -0.825646\n",
       "2     0.122515\n",
       "3...  \n",
       "29  0     0.050604\n",
       "1     0.050604\n",
       "2     0.474080\n",
       "3...  "
      ]
     },
     "execution_count": 9,
     "metadata": {},
     "output_type": "execute_result"
    }
   ],
   "source": [
    "# multivariate input data\n",
    "X_train.head()"
   ]
  },
  {
   "cell_type": "code",
   "execution_count": 10,
   "metadata": {
    "execution": {
     "iopub.execute_input": "2020-09-11T08:41:24.803396Z",
     "iopub.status.busy": "2020-09-11T08:41:24.796967Z",
     "iopub.status.idle": "2020-09-11T08:42:08.702814Z",
     "shell.execute_reply": "2020-09-11T08:42:08.703392Z"
    },
    "scrolled": true
   },
   "outputs": [
    {
     "name": "stderr",
     "output_type": "stream",
     "text": [
      "/Users/travis/build/alan-turing-institute/sktime/sktime/transformers/series_as_features/summarize/_tsfresh.py:150: UserWarning: Found non-unique index, replaced with unique index.\n",
      "  warn(\"Found non-unique index, replaced with unique index.\")\n"
     ]
    },
    {
     "name": "stderr",
     "output_type": "stream",
     "text": [
      "\r",
      "Feature Extraction:   0%|          | 0/5 [00:00<?, ?it/s]"
     ]
    },
    {
     "name": "stderr",
     "output_type": "stream",
     "text": [
      "\r",
      "Feature Extraction:  20%|██        | 1/5 [00:08<00:34,  8.56s/it]"
     ]
    },
    {
     "name": "stderr",
     "output_type": "stream",
     "text": [
      "\r",
      "Feature Extraction:  40%|████      | 2/5 [00:16<00:25,  8.38s/it]"
     ]
    },
    {
     "name": "stderr",
     "output_type": "stream",
     "text": [
      "\r",
      "Feature Extraction:  60%|██████    | 3/5 [00:24<00:16,  8.30s/it]"
     ]
    },
    {
     "name": "stderr",
     "output_type": "stream",
     "text": [
      "\r",
      "Feature Extraction:  80%|████████  | 4/5 [00:32<00:08,  8.27s/it]"
     ]
    },
    {
     "name": "stderr",
     "output_type": "stream",
     "text": [
      "\r",
      "Feature Extraction: 100%|██████████| 5/5 [00:41<00:00,  8.28s/it]"
     ]
    },
    {
     "name": "stderr",
     "output_type": "stream",
     "text": [
      "\r",
      "Feature Extraction: 100%|██████████| 5/5 [00:41<00:00,  8.23s/it]"
     ]
    },
    {
     "name": "stderr",
     "output_type": "stream",
     "text": [
      "\n"
     ]
    },
    {
     "data": {
      "text/html": [
       "<div>\n",
       "<style scoped>\n",
       "    .dataframe tbody tr th:only-of-type {\n",
       "        vertical-align: middle;\n",
       "    }\n",
       "\n",
       "    .dataframe tbody tr th {\n",
       "        vertical-align: top;\n",
       "    }\n",
       "\n",
       "    .dataframe thead th {\n",
       "        text-align: right;\n",
       "    }\n",
       "</style>\n",
       "<table border=\"1\" class=\"dataframe\">\n",
       "  <thead>\n",
       "    <tr style=\"text-align: right;\">\n",
       "      <th></th>\n",
       "      <th>dim_0__variance_larger_than_standard_deviation</th>\n",
       "      <th>dim_0__has_duplicate_max</th>\n",
       "      <th>dim_0__has_duplicate_min</th>\n",
       "      <th>dim_0__has_duplicate</th>\n",
       "      <th>dim_0__sum_values</th>\n",
       "      <th>dim_0__abs_energy</th>\n",
       "      <th>dim_0__mean_abs_change</th>\n",
       "      <th>dim_0__mean_change</th>\n",
       "      <th>dim_0__mean_second_derivative_central</th>\n",
       "      <th>dim_0__median</th>\n",
       "      <th>...</th>\n",
       "      <th>dim_5__fourier_entropy__bins_2</th>\n",
       "      <th>dim_5__fourier_entropy__bins_3</th>\n",
       "      <th>dim_5__fourier_entropy__bins_5</th>\n",
       "      <th>dim_5__fourier_entropy__bins_10</th>\n",
       "      <th>dim_5__fourier_entropy__bins_100</th>\n",
       "      <th>dim_5__permutation_entropy__dimension_3__tau_1</th>\n",
       "      <th>dim_5__permutation_entropy__dimension_4__tau_1</th>\n",
       "      <th>dim_5__permutation_entropy__dimension_5__tau_1</th>\n",
       "      <th>dim_5__permutation_entropy__dimension_6__tau_1</th>\n",
       "      <th>dim_5__permutation_entropy__dimension_7__tau_1</th>\n",
       "    </tr>\n",
       "  </thead>\n",
       "  <tbody>\n",
       "    <tr>\n",
       "      <th>0</th>\n",
       "      <td>0.0</td>\n",
       "      <td>0.0</td>\n",
       "      <td>0.0</td>\n",
       "      <td>1.0</td>\n",
       "      <td>-8.618429</td>\n",
       "      <td>10.629914</td>\n",
       "      <td>0.229193</td>\n",
       "      <td>-0.002871</td>\n",
       "      <td>-0.000061</td>\n",
       "      <td>-0.164268</td>\n",
       "      <td>...</td>\n",
       "      <td>0.320753</td>\n",
       "      <td>0.647776</td>\n",
       "      <td>1.124025</td>\n",
       "      <td>1.459587</td>\n",
       "      <td>3.130035</td>\n",
       "      <td>1.599592</td>\n",
       "      <td>2.614086</td>\n",
       "      <td>3.516918</td>\n",
       "      <td>4.094068</td>\n",
       "      <td>4.316511</td>\n",
       "    </tr>\n",
       "    <tr>\n",
       "      <th>1</th>\n",
       "      <td>1.0</td>\n",
       "      <td>0.0</td>\n",
       "      <td>0.0</td>\n",
       "      <td>1.0</td>\n",
       "      <td>680.848161</td>\n",
       "      <td>12647.878199</td>\n",
       "      <td>5.481374</td>\n",
       "      <td>0.080440</td>\n",
       "      <td>-0.052293</td>\n",
       "      <td>3.983688</td>\n",
       "      <td>...</td>\n",
       "      <td>0.223718</td>\n",
       "      <td>0.437095</td>\n",
       "      <td>0.806540</td>\n",
       "      <td>1.424715</td>\n",
       "      <td>3.226796</td>\n",
       "      <td>1.659410</td>\n",
       "      <td>2.827616</td>\n",
       "      <td>3.720341</td>\n",
       "      <td>4.294787</td>\n",
       "      <td>4.499051</td>\n",
       "    </tr>\n",
       "    <tr>\n",
       "      <th>2</th>\n",
       "      <td>1.0</td>\n",
       "      <td>0.0</td>\n",
       "      <td>1.0</td>\n",
       "      <td>1.0</td>\n",
       "      <td>442.099383</td>\n",
       "      <td>6541.210250</td>\n",
       "      <td>4.043676</td>\n",
       "      <td>-0.030065</td>\n",
       "      <td>-0.014180</td>\n",
       "      <td>1.558775</td>\n",
       "      <td>...</td>\n",
       "      <td>0.399949</td>\n",
       "      <td>0.677092</td>\n",
       "      <td>1.178445</td>\n",
       "      <td>1.754999</td>\n",
       "      <td>3.330219</td>\n",
       "      <td>1.743262</td>\n",
       "      <td>2.966554</td>\n",
       "      <td>3.953301</td>\n",
       "      <td>4.373258</td>\n",
       "      <td>4.484304</td>\n",
       "    </tr>\n",
       "    <tr>\n",
       "      <th>3</th>\n",
       "      <td>1.0</td>\n",
       "      <td>0.0</td>\n",
       "      <td>0.0</td>\n",
       "      <td>1.0</td>\n",
       "      <td>113.745549</td>\n",
       "      <td>356.056167</td>\n",
       "      <td>1.297926</td>\n",
       "      <td>0.004898</td>\n",
       "      <td>-0.002951</td>\n",
       "      <td>1.043021</td>\n",
       "      <td>...</td>\n",
       "      <td>0.096509</td>\n",
       "      <td>0.096509</td>\n",
       "      <td>0.261160</td>\n",
       "      <td>0.288342</td>\n",
       "      <td>1.515164</td>\n",
       "      <td>1.543430</td>\n",
       "      <td>2.424844</td>\n",
       "      <td>3.185694</td>\n",
       "      <td>3.766752</td>\n",
       "      <td>4.154904</td>\n",
       "    </tr>\n",
       "    <tr>\n",
       "      <th>4</th>\n",
       "      <td>1.0</td>\n",
       "      <td>0.0</td>\n",
       "      <td>0.0</td>\n",
       "      <td>1.0</td>\n",
       "      <td>75.777011</td>\n",
       "      <td>232.319298</td>\n",
       "      <td>1.388404</td>\n",
       "      <td>0.013368</td>\n",
       "      <td>0.000000</td>\n",
       "      <td>0.648085</td>\n",
       "      <td>...</td>\n",
       "      <td>0.096509</td>\n",
       "      <td>0.192626</td>\n",
       "      <td>0.192626</td>\n",
       "      <td>0.288342</td>\n",
       "      <td>1.156045</td>\n",
       "      <td>1.592283</td>\n",
       "      <td>2.550087</td>\n",
       "      <td>3.310667</td>\n",
       "      <td>3.823423</td>\n",
       "      <td>4.165130</td>\n",
       "    </tr>\n",
       "  </tbody>\n",
       "</table>\n",
       "<p>5 rows × 4638 columns</p>\n",
       "</div>"
      ],
      "text/plain": [
       "   dim_0__variance_larger_than_standard_deviation  dim_0__has_duplicate_max  \\\n",
       "0                                             0.0                       0.0   \n",
       "1                                             1.0                       0.0   \n",
       "2                                             1.0                       0.0   \n",
       "3                                             1.0                       0.0   \n",
       "4                                             1.0                       0.0   \n",
       "\n",
       "   dim_0__has_duplicate_min  dim_0__has_duplicate  dim_0__sum_values  \\\n",
       "0                       0.0                   1.0          -8.618429   \n",
       "1                       0.0                   1.0         680.848161   \n",
       "2                       1.0                   1.0         442.099383   \n",
       "3                       0.0                   1.0         113.745549   \n",
       "4                       0.0                   1.0          75.777011   \n",
       "\n",
       "   dim_0__abs_energy  dim_0__mean_abs_change  dim_0__mean_change  \\\n",
       "0          10.629914                0.229193           -0.002871   \n",
       "1       12647.878199                5.481374            0.080440   \n",
       "2        6541.210250                4.043676           -0.030065   \n",
       "3         356.056167                1.297926            0.004898   \n",
       "4         232.319298                1.388404            0.013368   \n",
       "\n",
       "   dim_0__mean_second_derivative_central  dim_0__median  ...  \\\n",
       "0                              -0.000061      -0.164268  ...   \n",
       "1                              -0.052293       3.983688  ...   \n",
       "2                              -0.014180       1.558775  ...   \n",
       "3                              -0.002951       1.043021  ...   \n",
       "4                               0.000000       0.648085  ...   \n",
       "\n",
       "   dim_5__fourier_entropy__bins_2  dim_5__fourier_entropy__bins_3  \\\n",
       "0                        0.320753                        0.647776   \n",
       "1                        0.223718                        0.437095   \n",
       "2                        0.399949                        0.677092   \n",
       "3                        0.096509                        0.096509   \n",
       "4                        0.096509                        0.192626   \n",
       "\n",
       "   dim_5__fourier_entropy__bins_5  dim_5__fourier_entropy__bins_10  \\\n",
       "0                        1.124025                         1.459587   \n",
       "1                        0.806540                         1.424715   \n",
       "2                        1.178445                         1.754999   \n",
       "3                        0.261160                         0.288342   \n",
       "4                        0.192626                         0.288342   \n",
       "\n",
       "   dim_5__fourier_entropy__bins_100  \\\n",
       "0                          3.130035   \n",
       "1                          3.226796   \n",
       "2                          3.330219   \n",
       "3                          1.515164   \n",
       "4                          1.156045   \n",
       "\n",
       "   dim_5__permutation_entropy__dimension_3__tau_1  \\\n",
       "0                                        1.599592   \n",
       "1                                        1.659410   \n",
       "2                                        1.743262   \n",
       "3                                        1.543430   \n",
       "4                                        1.592283   \n",
       "\n",
       "   dim_5__permutation_entropy__dimension_4__tau_1  \\\n",
       "0                                        2.614086   \n",
       "1                                        2.827616   \n",
       "2                                        2.966554   \n",
       "3                                        2.424844   \n",
       "4                                        2.550087   \n",
       "\n",
       "   dim_5__permutation_entropy__dimension_5__tau_1  \\\n",
       "0                                        3.516918   \n",
       "1                                        3.720341   \n",
       "2                                        3.953301   \n",
       "3                                        3.185694   \n",
       "4                                        3.310667   \n",
       "\n",
       "   dim_5__permutation_entropy__dimension_6__tau_1  \\\n",
       "0                                        4.094068   \n",
       "1                                        4.294787   \n",
       "2                                        4.373258   \n",
       "3                                        3.766752   \n",
       "4                                        3.823423   \n",
       "\n",
       "   dim_5__permutation_entropy__dimension_7__tau_1  \n",
       "0                                        4.316511  \n",
       "1                                        4.499051  \n",
       "2                                        4.484304  \n",
       "3                                        4.154904  \n",
       "4                                        4.165130  \n",
       "\n",
       "[5 rows x 4638 columns]"
      ]
     },
     "execution_count": 10,
     "metadata": {},
     "output_type": "execute_result"
    }
   ],
   "source": [
    "t = TSFreshFeatureExtractor(default_fc_parameters=\"efficient\", show_warnings=False)\n",
    "Xt = t.fit_transform(X_train)\n",
    "Xt.head()"
   ]
  }
 ],
 "metadata": {
  "kernelspec": {
   "display_name": "Python 3",
   "language": "python",
   "name": "python3"
  },
  "language_info": {
   "codemirror_mode": {
    "name": "ipython",
    "version": 3
   },
   "file_extension": ".py",
   "mimetype": "text/x-python",
   "name": "python",
   "nbconvert_exporter": "python",
   "pygments_lexer": "ipython3",
   "version": "3.7.9"
  }
 },
 "nbformat": 4,
 "nbformat_minor": 4
}
